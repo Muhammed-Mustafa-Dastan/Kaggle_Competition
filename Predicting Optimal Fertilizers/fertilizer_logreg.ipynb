{
  "cells": [
    {
      "cell_type": "markdown",
      "metadata": {},
      "source": [
        "# Fertilizer Recommendation with Logistic Regression\n",
        "A full data science workflow for predicting the best fertilizer."
      ]
    },
    {
      "cell_type": "code",
      "metadata": {},
      "execution_count": null,
      "outputs": [],
      "source": [
        "# Install packages if needed\n",
        "%pip install pandas scikit-learn numpy --quiet\n",
        "\n",
        "import pandas as pd\n",
        "import numpy as np\n",
        "from sklearn.model_selection import StratifiedKFold\n",
        "from sklearn.preprocessing import OneHotEncoder, StandardScaler, LabelEncoder\n",
        "from sklearn.compose import ColumnTransformer\n",
        "from sklearn.pipeline import Pipeline\n",
        "from sklearn.linear_model import LogisticRegression"
      ]
    },
    {
      "cell_type": "markdown",
      "metadata": {},
      "source": [
        "## 1. Load Data"
      ]
    },
    {
      "cell_type": "code",
      "metadata": {},
      "execution_count": null,
      "outputs": [],
      "source": [
        "train = pd.read_csv('train.csv')\n",
        "test = pd.read_csv('test.csv')\n",
        "train.head()"
      ]
    },
    {
      "cell_type": "markdown",
      "metadata": {},
      "source": [
        "## 2. Data Overview"
      ]
    },
    {
      "cell_type": "code",
      "metadata": {},
      "execution_count": null,
      "outputs": [],
      "source": [
        "print('Train shape:', train.shape)\n",
        "print('Test shape:', test.shape)\n",
        "print('\n",
        "Missing values in train:')\n",
        "print(train.isnull().sum())"
      ]
    },
    {
      "cell_type": "markdown",
      "metadata": {},
      "source": [
        "## 3. Preprocessing"
      ]
    },
    {
      "cell_type": "code",
      "metadata": {},
      "execution_count": null,
      "outputs": [],
      "source": [
        "target = 'Fertilizer Name'\n",
        "le = LabelEncoder()\n",
        "train[target] = le.fit_transform(train[target])\n",
        "\n",
        "cat_features = ['Soil Type', 'Crop Type']\n",
        "num_features = ['Temparature','Humidity','Moisture','Nitrogen','Potassium','Phosphorous']\n",
        "preprocessor = ColumnTransformer([('cat', OneHotEncoder(handle_unknown='ignore'), cat_features),('num', StandardScaler(), num_features)])"
      ]
    },
    {
      "cell_type": "markdown",
      "metadata": {},
      "source": [
        "## 4. MAP@3 Metric"
      ]
    },
    {
      "cell_type": "code",
      "metadata": {},
      "execution_count": null,
      "outputs": [],
      "source": [
        "def mapk(actual, predicted, k=3):\n",
        "    score = 0.0\n",
        "    for a, p in zip(actual, predicted):\n",
        "        p = p[:k]\n",
        "        if a in p:\n",
        "            score += 1.0 / (p.index(a) + 1)\n",
        "    return score / len(actual)"
      ]
    },
    {
      "cell_type": "markdown",
      "metadata": {},
      "source": [
        "## 5. Cross-validation"
      ]
    },
    {
      "cell_type": "code",
      "metadata": {},
      "execution_count": null,
      "outputs": [],
      "source": [
        "X = train.drop(columns=[target, 'id'])\n",
        "y = train[target]\n",
        "\n",
        "skf = StratifiedKFold(n_splits=3, shuffle=True, random_state=42)\n",
        "cv_scores = []\n",
        "for fold, (tr_idx, val_idx) in enumerate(skf.split(X, y), 1):\n",
        "    X_train, X_val = X.iloc[tr_idx], X.iloc[val_idx]\n",
        "    y_train, y_val = y.iloc[tr_idx], y.iloc[val_idx]\n",
        "    clf = Pipeline([('preprocess', preprocessor),('model', LogisticRegression(max_iter=200, multi_class='multinomial'))])\n",
        "    clf.fit(X_train, y_train)\n",
        "    proba = clf.predict_proba(X_val)\n",
        "    top3 = np.argsort(proba, axis=1)[:, ::-1][:,:3]\n",
        "    cv_score = mapk(list(y_val), top3.tolist(), k=3)\n",
        "    cv_scores.append(cv_score)\n",
        "    print(f'Fold {fold} MAP@3: {cv_score:.4f}')\n",
        "print('Mean CV MAP@3:', np.mean(cv_scores))"
      ]
    },
    {
      "cell_type": "markdown",
      "metadata": {},
      "source": [
        "## 6. Train Final Model"
      ]
    },
    {
      "cell_type": "code",
      "metadata": {},
      "execution_count": null,
      "outputs": [],
      "source": [
        "final_clf = Pipeline([('preprocess', preprocessor),('model', LogisticRegression(max_iter=200, multi_class='multinomial'))])\n",
        "final_clf.fit(X, y)"
      ]
    },
    {
      "cell_type": "markdown",
      "metadata": {},
      "source": [
        "## 7. Prediction and Submission"
      ]
    },
    {
      "cell_type": "code",
      "metadata": {},
      "execution_count": null,
      "outputs": [],
      "source": [
        "test_ids = test['id']\n",
        "X_test = test.drop(columns=['id'])\n",
        "proba = final_clf.predict_proba(X_test)\n",
        "top3 = np.argsort(proba, axis=1)[:, ::-1][:,:3]\n",
        "pred_labels = [[le.inverse_transform([c])[0] for c in row] for row in top3]\n",
        "submission = pd.DataFrame({'id': test_ids, 'Fertilizer Name': [' '.join(p) for p in pred_labels]})\n",
        "submission.to_csv('submission.csv', index=False)\n",
        "submission.head()"
      ]
    }
  ],
  "metadata": {
    "kernelspec": {
      "display_name": "Python 3",
      "language": "python",
      "name": "python3"
    },
    "language_info": {
      "name": "python"
    }
  },
  "nbformat": 4,
  "nbformat_minor": 4
}
