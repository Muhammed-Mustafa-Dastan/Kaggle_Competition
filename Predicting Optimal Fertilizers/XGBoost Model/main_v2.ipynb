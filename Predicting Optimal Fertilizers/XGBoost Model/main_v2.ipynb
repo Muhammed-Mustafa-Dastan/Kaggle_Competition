{
 "cells": [
  {
   "cell_type": "code",
   "execution_count": 1,
   "id": "c50f0e5a",
   "metadata": {},
   "outputs": [],
   "source": [
    "# 1. Gerekli kütüphanelerin yüklenmesi\n",
    "import pandas as pd\n",
    "import numpy as np\n",
    "from sklearn.model_selection import train_test_split\n",
    "from sklearn.preprocessing import OneHotEncoder\n",
    "from xgboost import XGBClassifier"
   ]
  },
  {
   "cell_type": "code",
   "execution_count": 2,
   "id": "cab88c96",
   "metadata": {},
   "outputs": [],
   "source": [
    "# 2. Veri Yükleme\n",
    "train_df = pd.read_csv(\"../train.csv\")\n",
    "test_df = pd.read_csv(\"../test.csv\")\n",
    "\n",
    "# Hedef ve özelliklerin ayrılması\n",
    "target_col = \"Fertilizer Name\"\n",
    "feature_cols = [col for col in train_df.columns if col not in [\"id\", target_col]]"
   ]
  },
  {
   "cell_type": "code",
   "execution_count": 3,
   "id": "6ffb02e2",
   "metadata": {},
   "outputs": [
    {
     "name": "stdout",
     "output_type": "stream",
     "text": [
      "Eğitim için 600000 örnek, Doğrulama için 150000 örnek ayrıldı.\n"
     ]
    }
   ],
   "source": [
    "# 3. Eğitim/Doğrulama Bölünmesi (Hold-out yöntemi, stratified)\n",
    "train_data, val_data = train_test_split(train_df, test_size=0.2, \n",
    "                                       stratify=train_df[target_col], random_state=42)\n",
    "print(f\"Eğitim için {len(train_data)} örnek, Doğrulama için {len(val_data)} örnek ayrıldı.\")"
   ]
  },
  {
   "cell_type": "code",
   "execution_count": 4,
   "id": "a0698b1a",
   "metadata": {},
   "outputs": [
    {
     "ename": "TypeError",
     "evalue": "OneHotEncoder.__init__() got an unexpected keyword argument 'sparse'",
     "output_type": "error",
     "traceback": [
      "\u001b[31m---------------------------------------------------------------------------\u001b[39m",
      "\u001b[31mTypeError\u001b[39m                                 Traceback (most recent call last)",
      "\u001b[36mCell\u001b[39m\u001b[36m \u001b[39m\u001b[32mIn[4]\u001b[39m\u001b[32m, line 6\u001b[39m\n\u001b[32m      3\u001b[39m num_features = [col \u001b[38;5;28;01mfor\u001b[39;00m col \u001b[38;5;129;01min\u001b[39;00m feature_cols \u001b[38;5;28;01mif\u001b[39;00m col \u001b[38;5;129;01mnot\u001b[39;00m \u001b[38;5;129;01min\u001b[39;00m cat_features]\n\u001b[32m      5\u001b[39m \u001b[38;5;66;03m# One-Hot encoder'ı eğitim verisi kategorilerine göre fit et\u001b[39;00m\n\u001b[32m----> \u001b[39m\u001b[32m6\u001b[39m ohe = \u001b[43mOneHotEncoder\u001b[49m\u001b[43m(\u001b[49m\u001b[43msparse\u001b[49m\u001b[43m=\u001b[49m\u001b[38;5;28;43;01mFalse\u001b[39;49;00m\u001b[43m,\u001b[49m\u001b[43m \u001b[49m\u001b[43mhandle_unknown\u001b[49m\u001b[43m=\u001b[49m\u001b[33;43m\"\u001b[39;49m\u001b[33;43mignore\u001b[39;49m\u001b[33;43m\"\u001b[39;49m\u001b[43m)\u001b[49m\n\u001b[32m      7\u001b[39m ohe.fit(train_data[cat_features])\n\u001b[32m      9\u001b[39m \u001b[38;5;66;03m# Dönüştürme: eğitim, doğrulama ve test\u001b[39;00m\n",
      "\u001b[31mTypeError\u001b[39m: OneHotEncoder.__init__() got an unexpected keyword argument 'sparse'"
     ]
    }
   ],
   "source": [
    "# 4. Özellik Mühendisliği: Kategorik kodlama (One-Hot Encoding)\n",
    "cat_features = [\"Soil Type\", \"Crop Type\"]\n",
    "num_features = [col for col in feature_cols if col not in cat_features]\n",
    "\n",
    "# One-Hot encoder'ı eğitim verisi kategorilerine göre fit et\n",
    "ohe = OneHotEncoder(sparse=False, handle_unknown=\"ignore\")\n",
    "ohe.fit(train_data[cat_features])\n",
    "\n",
    "# Dönüştürme: eğitim, doğrulama ve test\n",
    "X_train_cat = ohe.transform(train_data[cat_features])\n",
    "X_val_cat   = ohe.transform(val_data[cat_features])\n",
    "X_test_cat  = ohe.transform(test_df[cat_features])\n",
    "\n",
    "# One-hot ile oluşan yeni sütun isimleri:\n",
    "ohe_cols = ohe.get_feature_names_out(cat_features)\n",
    "\n",
    "# One-hot sonuçlarını DataFrame'e çevirip orijinal indeksleri sıfırla\n",
    "X_train_cat_df = pd.DataFrame(X_train_cat, columns=ohe_cols)\n",
    "X_val_cat_df   = pd.DataFrame(X_val_cat, columns=ohe_cols)\n",
    "X_test_cat_df  = pd.DataFrame(X_test_cat, columns=ohe_cols)\n",
    "\n",
    "# Sayısal özellikleri olduğu gibi al\n",
    "X_train_num = train_data[num_features].reset_index(drop=True)\n",
    "X_val_num   = val_data[num_features].reset_index(drop=True)\n",
    "X_test_num  = test_df[num_features].reset_index(drop=True)\n",
    "\n",
    "# Sayısal ve one-hot özellikleri birleştir\n",
    "X_train = pd.concat([X_train_num, X_train_cat_df], axis=1)\n",
    "X_val   = pd.concat([X_val_num, X_val_cat_df], axis=1)\n",
    "X_test  = pd.concat([X_test_num, X_test_cat_df], axis=1)\n",
    "\n",
    "y_train = train_data[target_col].values\n",
    "y_val   = val_data[target_col].values"
   ]
  },
  {
   "cell_type": "code",
   "execution_count": null,
   "id": "46f02b36",
   "metadata": {},
   "outputs": [],
   "source": [
    "# 5. Model Eğitimi (XGBoost çok sınıflı)\n",
    "# Hedef değişkeni sayısal koda çevir (XGBoost string ile de çalışabilir ama sayı vermek tercih edilir)\n",
    "classes = sorted(train_df[target_col].unique())  # sınıfları alfabetik sırada alıyoruz\n",
    "class_to_idx = {c: i for i, c in enumerate(classes)}\n",
    "y_train_num = np.array([class_to_idx[c] for c in y_train])\n",
    "y_val_num   = np.array([class_to_idx[c] for c in y_val])\n",
    "\n",
    "# Model tanımlama\n",
    "xgb_model = XGBClassifier(n_estimators=200, max_depth=6, learning_rate=0.1, \n",
    "                          objective=\"multi:softprob\", num_class=len(classes),\n",
    "                          eval_metric=\"mlogloss\", use_label_encoder=False,\n",
    "                          random_state=42)\n",
    "# Modeli eğit (erken durdurma ile)\n",
    "xgb_model.fit(X_train, y_train_num, \n",
    "              eval_set=[(X_val, y_val_num)], \n",
    "              early_stopping_rounds=20, verbose=False)"
   ]
  },
  {
   "cell_type": "code",
   "execution_count": null,
   "id": "2ac803e3",
   "metadata": {},
   "outputs": [],
   "source": [
    "# 6. Doğrulama üzerinde performans değerlendirme (MAP@3 hesaplama)\n",
    "val_pred_prob = xgb_model.predict_proba(X_val)\n",
    "def mapk_score(y_true, pred_probs, k=3):\n",
    "    \"\"\"Gerçek etiketler ve tahmin olasılık matrisine bakarak MAP@k skorunu hesaplar.\"\"\"\n",
    "    n = pred_probs.shape[0]\n",
    "    # Her örnek için olasılıkları büyükten küçüğe sıralı ilk k sınıfın indeksi\n",
    "    topk_preds = np.argsort(pred_probs, axis=1)[:, -k:][:, ::-1]\n",
    "    # Ortalama average precision hesapla\n",
    "    apk_sum = 0.0\n",
    "    for true_label, pred_topk in zip(y_true, topk_preds):\n",
    "        # true_label sayısal (class index) olmalı\n",
    "        if true_label in pred_topk:\n",
    "            rank = np.where(pred_topk == true_label)[0][0] + 1  # 1-indexed\n",
    "            apk_sum += 1.0 / rank\n",
    "    return apk_sum / n\n",
    "\n",
    "val_map3 = mapk_score(y_val_num, val_pred_prob, k=3)\n",
    "print(f\"Doğrulama MAP@3 skoru: {val_map3:.5f}\")"
   ]
  },
  {
   "cell_type": "code",
   "execution_count": null,
   "id": "39437257",
   "metadata": {},
   "outputs": [],
   "source": [
    "# 7. Tüm eğitim verisiyle final modeli eğit ve test verisini tahmin et\n",
    "final_model = XGBClassifier(n_estimators=xgb_model.best_iteration or 200,\n",
    "                            max_depth=6, learning_rate=0.1,\n",
    "                            objective=\"multi:softprob\", num_class=len(classes),\n",
    "                            use_label_encoder=False)\n",
    "final_model.fit(pd.concat([X_train, X_val], axis=0), \n",
    "               np.concatenate([y_train_num, y_val_num], axis=0))\n",
    "\n",
    "test_pred_prob = final_model.predict_proba(X_test)\n",
    "\n",
    "# En yüksek 3 olasılıklı sınıfı seç\n",
    "top3_idx = np.argsort(test_pred_prob, axis=1)[:, -3:][:, ::-1]  # her satır için en büyük 3 indeks\n",
    "top3_labels = [\" \".join([classes[idx] for idx in row]) for row in top3_idx]"
   ]
  },
  {
   "cell_type": "code",
   "execution_count": null,
   "id": "517b50cd",
   "metadata": {},
   "outputs": [],
   "source": [
    "# 8. Submission dosyasını oluşturma\n",
    "submission = pd.DataFrame({\n",
    "    \"id\": test_df[\"id\"],\n",
    "    \"Fertilizer Name\": top3_labels\n",
    "})\n",
    "submission.to_csv(\"submission_v2.csv\", index=False)\n",
    "print(submission.head(5))"
   ]
  }
 ],
 "metadata": {
  "kernelspec": {
   "display_name": ".venv",
   "language": "python",
   "name": "python3"
  },
  "language_info": {
   "codemirror_mode": {
    "name": "ipython",
    "version": 3
   },
   "file_extension": ".py",
   "mimetype": "text/x-python",
   "name": "python",
   "nbconvert_exporter": "python",
   "pygments_lexer": "ipython3",
   "version": "3.13.5"
  }
 },
 "nbformat": 4,
 "nbformat_minor": 5
}
