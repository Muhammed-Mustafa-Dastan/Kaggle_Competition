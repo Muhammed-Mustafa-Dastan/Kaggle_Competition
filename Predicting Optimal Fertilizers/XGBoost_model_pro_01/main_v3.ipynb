{
 "cells": [
  {
   "cell_type": "markdown",
   "metadata": {},
   "source": [
    "<div class=\"alert alert-success\">  \n",
    "    <h1 align=\"center\" style=\"color:darkgoldenrod;\">Importing Libraries</h1>  \n",
    "     \n",
    "</div>"
   ]
  },
  {
   "cell_type": "code",
   "execution_count": 13,
   "metadata": {},
   "outputs": [],
   "source": [
    "import numpy as np\n",
    "import pandas as pd\n",
    "import matplotlib.pyplot as plt\n",
    "from sklearn.model_selection import train_test_split\n",
    "from sklearn.metrics import mean_squared_error\n",
    "from xgboost import XGBRegressor\n",
    "import lightgbm as lgb\n",
    "import gc\n",
    "import numpy as np\n",
    "from xgboost import XGBClassifier\n",
    "from sklearn.metrics import accuracy_score"
   ]
  },
  {
   "cell_type": "markdown",
   "metadata": {},
   "source": [
    "<div class=\"alert alert-success\">  \n",
    "    <h1 align=\"center\" style=\"color:darkgoldenrod;\">Loading  Dataset </h1>  \n",
    "     \n",
    "</div>"
   ]
  },
  {
   "cell_type": "code",
   "execution_count": 14,
   "metadata": {},
   "outputs": [],
   "source": [
    "df_sub=pd.read_csv(\"../sample_submission.csv\")\n",
    "df_train=pd.read_csv(\"../train.csv\")\n",
    "df_test=pd.read_csv(\"../test.csv\")"
   ]
  },
  {
   "cell_type": "markdown",
   "metadata": {},
   "source": [
    "<div class=\"alert alert-success\">  \n",
    "    <h1 align=\"center\" style=\"color:darkgoldenrod;\">Check on Data </h1>  \n",
    "     \n",
    "</div>"
   ]
  },
  {
   "cell_type": "code",
   "execution_count": 15,
   "metadata": {},
   "outputs": [],
   "source": [
    "df_extra = pd.read_csv('../Fertilizer Prediction.csv')"
   ]
  },
  {
   "cell_type": "code",
   "execution_count": 16,
   "metadata": {},
   "outputs": [
    {
     "data": {
      "text/plain": [
       "(Index(['Temparature', 'Humidity', 'Moisture', 'Soil Type', 'Crop Type',\n",
       "        'Nitrogen', 'Potassium', 'Phosphorous', 'Fertilizer Name'],\n",
       "       dtype='object'),\n",
       " Index(['id', 'Temparature', 'Humidity', 'Moisture', 'Soil Type', 'Crop Type',\n",
       "        'Nitrogen', 'Potassium', 'Phosphorous', 'Fertilizer Name'],\n",
       "       dtype='object'))"
      ]
     },
     "execution_count": 16,
     "metadata": {},
     "output_type": "execute_result"
    }
   ],
   "source": [
    "df_extra.columns,df_train.columns"
   ]
  },
  {
   "cell_type": "code",
   "execution_count": 17,
   "metadata": {},
   "outputs": [
    {
     "data": {
      "text/html": [
       "<div>\n",
       "<style scoped>\n",
       "    .dataframe tbody tr th:only-of-type {\n",
       "        vertical-align: middle;\n",
       "    }\n",
       "\n",
       "    .dataframe tbody tr th {\n",
       "        vertical-align: top;\n",
       "    }\n",
       "\n",
       "    .dataframe thead th {\n",
       "        text-align: right;\n",
       "    }\n",
       "</style>\n",
       "<table border=\"1\" class=\"dataframe\">\n",
       "  <thead>\n",
       "    <tr style=\"text-align: right;\">\n",
       "      <th></th>\n",
       "      <th>id</th>\n",
       "      <th>Temparature</th>\n",
       "      <th>Humidity</th>\n",
       "      <th>Moisture</th>\n",
       "      <th>Soil Type</th>\n",
       "      <th>Crop Type</th>\n",
       "      <th>Nitrogen</th>\n",
       "      <th>Potassium</th>\n",
       "      <th>Phosphorous</th>\n",
       "      <th>Fertilizer Name</th>\n",
       "    </tr>\n",
       "  </thead>\n",
       "  <tbody>\n",
       "    <tr>\n",
       "      <th>0</th>\n",
       "      <td>0</td>\n",
       "      <td>37</td>\n",
       "      <td>70</td>\n",
       "      <td>36</td>\n",
       "      <td>Clayey</td>\n",
       "      <td>Sugarcane</td>\n",
       "      <td>36</td>\n",
       "      <td>4</td>\n",
       "      <td>5</td>\n",
       "      <td>28-28</td>\n",
       "    </tr>\n",
       "    <tr>\n",
       "      <th>1</th>\n",
       "      <td>1</td>\n",
       "      <td>27</td>\n",
       "      <td>69</td>\n",
       "      <td>65</td>\n",
       "      <td>Sandy</td>\n",
       "      <td>Millets</td>\n",
       "      <td>30</td>\n",
       "      <td>6</td>\n",
       "      <td>18</td>\n",
       "      <td>28-28</td>\n",
       "    </tr>\n",
       "    <tr>\n",
       "      <th>2</th>\n",
       "      <td>2</td>\n",
       "      <td>29</td>\n",
       "      <td>63</td>\n",
       "      <td>32</td>\n",
       "      <td>Sandy</td>\n",
       "      <td>Millets</td>\n",
       "      <td>24</td>\n",
       "      <td>12</td>\n",
       "      <td>16</td>\n",
       "      <td>17-17-17</td>\n",
       "    </tr>\n",
       "    <tr>\n",
       "      <th>3</th>\n",
       "      <td>3</td>\n",
       "      <td>35</td>\n",
       "      <td>62</td>\n",
       "      <td>54</td>\n",
       "      <td>Sandy</td>\n",
       "      <td>Barley</td>\n",
       "      <td>39</td>\n",
       "      <td>12</td>\n",
       "      <td>4</td>\n",
       "      <td>10-26-26</td>\n",
       "    </tr>\n",
       "    <tr>\n",
       "      <th>4</th>\n",
       "      <td>4</td>\n",
       "      <td>35</td>\n",
       "      <td>58</td>\n",
       "      <td>43</td>\n",
       "      <td>Red</td>\n",
       "      <td>Paddy</td>\n",
       "      <td>37</td>\n",
       "      <td>2</td>\n",
       "      <td>16</td>\n",
       "      <td>DAP</td>\n",
       "    </tr>\n",
       "  </tbody>\n",
       "</table>\n",
       "</div>"
      ],
      "text/plain": [
       "   id  Temparature  Humidity  Moisture Soil Type  Crop Type  Nitrogen  \\\n",
       "0   0           37        70        36    Clayey  Sugarcane        36   \n",
       "1   1           27        69        65     Sandy    Millets        30   \n",
       "2   2           29        63        32     Sandy    Millets        24   \n",
       "3   3           35        62        54     Sandy     Barley        39   \n",
       "4   4           35        58        43       Red      Paddy        37   \n",
       "\n",
       "   Potassium  Phosphorous Fertilizer Name  \n",
       "0          4            5           28-28  \n",
       "1          6           18           28-28  \n",
       "2         12           16        17-17-17  \n",
       "3         12            4        10-26-26  \n",
       "4          2           16             DAP  "
      ]
     },
     "execution_count": 17,
     "metadata": {},
     "output_type": "execute_result"
    }
   ],
   "source": [
    "df_train.head()"
   ]
  },
  {
   "cell_type": "code",
   "execution_count": 18,
   "metadata": {},
   "outputs": [
    {
     "data": {
      "text/html": [
       "<div>\n",
       "<style scoped>\n",
       "    .dataframe tbody tr th:only-of-type {\n",
       "        vertical-align: middle;\n",
       "    }\n",
       "\n",
       "    .dataframe tbody tr th {\n",
       "        vertical-align: top;\n",
       "    }\n",
       "\n",
       "    .dataframe thead th {\n",
       "        text-align: right;\n",
       "    }\n",
       "</style>\n",
       "<table border=\"1\" class=\"dataframe\">\n",
       "  <thead>\n",
       "    <tr style=\"text-align: right;\">\n",
       "      <th></th>\n",
       "      <th>id</th>\n",
       "      <th>Temparature</th>\n",
       "      <th>Humidity</th>\n",
       "      <th>Moisture</th>\n",
       "      <th>Soil Type</th>\n",
       "      <th>Crop Type</th>\n",
       "      <th>Nitrogen</th>\n",
       "      <th>Potassium</th>\n",
       "      <th>Phosphorous</th>\n",
       "    </tr>\n",
       "  </thead>\n",
       "  <tbody>\n",
       "    <tr>\n",
       "      <th>0</th>\n",
       "      <td>750000</td>\n",
       "      <td>31</td>\n",
       "      <td>70</td>\n",
       "      <td>52</td>\n",
       "      <td>Sandy</td>\n",
       "      <td>Wheat</td>\n",
       "      <td>34</td>\n",
       "      <td>11</td>\n",
       "      <td>24</td>\n",
       "    </tr>\n",
       "    <tr>\n",
       "      <th>1</th>\n",
       "      <td>750001</td>\n",
       "      <td>27</td>\n",
       "      <td>62</td>\n",
       "      <td>45</td>\n",
       "      <td>Red</td>\n",
       "      <td>Sugarcane</td>\n",
       "      <td>30</td>\n",
       "      <td>14</td>\n",
       "      <td>15</td>\n",
       "    </tr>\n",
       "    <tr>\n",
       "      <th>2</th>\n",
       "      <td>750002</td>\n",
       "      <td>28</td>\n",
       "      <td>72</td>\n",
       "      <td>28</td>\n",
       "      <td>Clayey</td>\n",
       "      <td>Ground Nuts</td>\n",
       "      <td>14</td>\n",
       "      <td>15</td>\n",
       "      <td>4</td>\n",
       "    </tr>\n",
       "    <tr>\n",
       "      <th>3</th>\n",
       "      <td>750003</td>\n",
       "      <td>37</td>\n",
       "      <td>53</td>\n",
       "      <td>57</td>\n",
       "      <td>Black</td>\n",
       "      <td>Ground Nuts</td>\n",
       "      <td>18</td>\n",
       "      <td>17</td>\n",
       "      <td>36</td>\n",
       "    </tr>\n",
       "    <tr>\n",
       "      <th>4</th>\n",
       "      <td>750004</td>\n",
       "      <td>31</td>\n",
       "      <td>55</td>\n",
       "      <td>32</td>\n",
       "      <td>Red</td>\n",
       "      <td>Pulses</td>\n",
       "      <td>13</td>\n",
       "      <td>19</td>\n",
       "      <td>14</td>\n",
       "    </tr>\n",
       "  </tbody>\n",
       "</table>\n",
       "</div>"
      ],
      "text/plain": [
       "       id  Temparature  Humidity  Moisture Soil Type    Crop Type  Nitrogen  \\\n",
       "0  750000           31        70        52     Sandy        Wheat        34   \n",
       "1  750001           27        62        45       Red    Sugarcane        30   \n",
       "2  750002           28        72        28    Clayey  Ground Nuts        14   \n",
       "3  750003           37        53        57     Black  Ground Nuts        18   \n",
       "4  750004           31        55        32       Red       Pulses        13   \n",
       "\n",
       "   Potassium  Phosphorous  \n",
       "0         11           24  \n",
       "1         14           15  \n",
       "2         15            4  \n",
       "3         17           36  \n",
       "4         19           14  "
      ]
     },
     "execution_count": 18,
     "metadata": {},
     "output_type": "execute_result"
    }
   ],
   "source": [
    "df_test.head()"
   ]
  },
  {
   "cell_type": "code",
   "execution_count": 19,
   "metadata": {},
   "outputs": [
    {
     "data": {
      "text/plain": [
       "((250000, 9), (750000, 10))"
      ]
     },
     "execution_count": 19,
     "metadata": {},
     "output_type": "execute_result"
    }
   ],
   "source": [
    "df_test.shape,df_train.shape"
   ]
  },
  {
   "cell_type": "code",
   "execution_count": 20,
   "metadata": {},
   "outputs": [],
   "source": [
    "df_train = df_train.drop(columns=['id'])\n",
    "df_test = df_test.drop(columns=['id'])"
   ]
  },
  {
   "cell_type": "code",
   "execution_count": 21,
   "metadata": {},
   "outputs": [],
   "source": [
    "df_train = pd.concat([df_train, df_extra], ignore_index=True)"
   ]
  },
  {
   "cell_type": "markdown",
   "metadata": {},
   "source": [
    "<div class=\"alert alert-success\">  \n",
    "    <h1 align=\"center\" style=\"color:darkgoldenrod;\">Checking - Distribution of categorical features </h1>  \n",
    "     \n",
    "</div>"
   ]
  },
  {
   "cell_type": "code",
   "execution_count": 23,
   "metadata": {},
   "outputs": [
    {
     "name": "stdout",
     "output_type": "stream",
     "text": [
      "<class 'pandas.core.frame.DataFrame'>\n",
      "RangeIndex: 850000 entries, 0 to 849999\n",
      "Data columns (total 9 columns):\n",
      " #   Column           Non-Null Count   Dtype \n",
      "---  ------           --------------   ----- \n",
      " 0   Temparature      850000 non-null  int64 \n",
      " 1   Humidity         850000 non-null  int64 \n",
      " 2   Moisture         850000 non-null  int64 \n",
      " 3   Soil Type        850000 non-null  object\n",
      " 4   Crop Type        850000 non-null  object\n",
      " 5   Nitrogen         850000 non-null  int64 \n",
      " 6   Potassium        850000 non-null  int64 \n",
      " 7   Phosphorous      850000 non-null  int64 \n",
      " 8   Fertilizer Name  850000 non-null  object\n",
      "dtypes: int64(6), object(3)\n",
      "memory usage: 58.4+ MB\n"
     ]
    }
   ],
   "source": [
    "df_train.info()"
   ]
  },
  {
   "cell_type": "code",
   "execution_count": 24,
   "metadata": {},
   "outputs": [
    {
     "name": "stdout",
     "output_type": "stream",
     "text": [
      "Soil Type: 5 unique values\n",
      "Crop Type: 11 unique values\n",
      "Fertilizer Name: 7 unique values\n"
     ]
    },
    {
     "data": {
      "text/plain": [
       "2661"
      ]
     },
     "execution_count": 24,
     "metadata": {},
     "output_type": "execute_result"
    }
   ],
   "source": [
    "categorical_columns = df_train.select_dtypes(include=['object']).columns\n",
    "unique_values = {col: df_train[col].nunique() for col in categorical_columns}\n",
    "for col, unique_count in unique_values.items():\n",
    "    print(f\"{col}: {unique_count} unique values\")\n",
    "    \n",
    "gc.collect()"
   ]
  },
  {
   "cell_type": "code",
   "execution_count": 25,
   "metadata": {},
   "outputs": [
    {
     "name": "stdout",
     "output_type": "stream",
     "text": [
      "Soil Type: 5 unique values\n",
      "Crop Type: 11 unique values\n"
     ]
    },
    {
     "data": {
      "text/plain": [
       "0"
      ]
     },
     "execution_count": 25,
     "metadata": {},
     "output_type": "execute_result"
    }
   ],
   "source": [
    "categorical_columns = df_test.select_dtypes(include=['object']).columns\n",
    "unique_values = {col: df_test[col].nunique() for col in categorical_columns}\n",
    "for col, unique_count in unique_values.items():\n",
    "    print(f\"{col}: {unique_count} unique values\")\n",
    "    \n",
    "gc.collect()"
   ]
  },
  {
   "cell_type": "code",
   "execution_count": 26,
   "metadata": {},
   "outputs": [
    {
     "data": {
      "text/plain": [
       "Index(['Temparature', 'Humidity', 'Moisture', 'Soil Type', 'Crop Type',\n",
       "       'Nitrogen', 'Potassium', 'Phosphorous'],\n",
       "      dtype='object')"
      ]
     },
     "execution_count": 26,
     "metadata": {},
     "output_type": "execute_result"
    }
   ],
   "source": [
    "df_test.columns"
   ]
  },
  {
   "cell_type": "code",
   "execution_count": 27,
   "metadata": {},
   "outputs": [
    {
     "data": {
      "text/plain": [
       "Index(['Temparature', 'Humidity', 'Moisture', 'Soil Type', 'Crop Type',\n",
       "       'Nitrogen', 'Potassium', 'Phosphorous', 'Fertilizer Name'],\n",
       "      dtype='object')"
      ]
     },
     "execution_count": 27,
     "metadata": {},
     "output_type": "execute_result"
    }
   ],
   "source": [
    "df_train.columns"
   ]
  },
  {
   "cell_type": "markdown",
   "metadata": {},
   "source": [
    "<div class=\"alert alert-success\">  \n",
    "    <h1 align=\"center\" style=\"color:darkgoldenrod;\">Exploratory Data Analysis (EDA) </h1>  \n",
    "     \n",
    "</div>"
   ]
  },
  {
   "cell_type": "code",
   "execution_count": 28,
   "metadata": {},
   "outputs": [],
   "source": [
    "import seaborn as sns"
   ]
  },
  {
   "cell_type": "code",
   "execution_count": 29,
   "metadata": {},
   "outputs": [
    {
     "name": "stdout",
     "output_type": "stream",
     "text": [
      "Columns in df_train with more than 10% missing values:\n",
      "Series([], dtype: float64)\n",
      "\n",
      "Columns in df_test with more than 10% missing values:\n",
      "Series([], dtype: float64)\n"
     ]
    }
   ],
   "source": [
    "missing_train = df_train.isna().mean() * 100\n",
    "missing_test = df_test.isna().mean() * 100\n",
    "\n",
    "print(\"Columns in df_train with more than 10% missing values:\")\n",
    "print(missing_train[missing_train > 0])\n",
    "\n",
    "print(\"\\nColumns in df_test with more than 10% missing values:\")\n",
    "print(missing_test[missing_test > 0])"
   ]
  },
  {
   "cell_type": "code",
   "execution_count": 30,
   "metadata": {},
   "outputs": [
    {
     "name": "stdout",
     "output_type": "stream",
     "text": [
      "✅ No missing values found in the dataset.\n"
     ]
    }
   ],
   "source": [
    "missing_values = df_train.isnull().sum()\n",
    "missing_values = missing_values[missing_values > 0]\n",
    "\n",
    "if not missing_values.empty:\n",
    "    plt.figure(figsize=(10, 6))\n",
    "    sns.barplot(x=missing_values.index, y=missing_values.values, palette='viridis')\n",
    "    plt.xticks(rotation=90)\n",
    "    plt.xlabel('Features')\n",
    "    plt.ylabel('Missing Values')\n",
    "    plt.title('Missing Values per Feature')\n",
    "    plt.tight_layout()\n",
    "    plt.show()\n",
    "else:\n",
    "    print(\"✅ No missing values found in the dataset.\")"
   ]
  },
  {
   "cell_type": "code",
   "execution_count": 31,
   "metadata": {},
   "outputs": [
    {
     "name": "stdout",
     "output_type": "stream",
     "text": [
      "Collecting dython\n",
      "  Downloading dython-0.7.9-py3-none-any.whl.metadata (2.9 kB)\n",
      "Requirement already satisfied: numpy>=1.23.0 in c:\\users\\muham\\onedrive\\belgeler\\github_projeler\\kaggle_competition\\.venv\\lib\\site-packages (from dython) (2.2.5)\n",
      "Requirement already satisfied: pandas>=1.4.2 in c:\\users\\muham\\onedrive\\belgeler\\github_projeler\\kaggle_competition\\.venv\\lib\\site-packages (from dython) (2.2.3)\n",
      "Requirement already satisfied: seaborn>=0.12.0 in c:\\users\\muham\\onedrive\\belgeler\\github_projeler\\kaggle_competition\\.venv\\lib\\site-packages (from dython) (0.13.2)\n",
      "Requirement already satisfied: scipy>=1.7.1 in c:\\users\\muham\\onedrive\\belgeler\\github_projeler\\kaggle_competition\\.venv\\lib\\site-packages (from dython) (1.15.3)\n",
      "Requirement already satisfied: matplotlib>=3.6.0 in c:\\users\\muham\\onedrive\\belgeler\\github_projeler\\kaggle_competition\\.venv\\lib\\site-packages (from dython) (3.10.3)\n",
      "Requirement already satisfied: scikit-learn>=0.24.2 in c:\\users\\muham\\onedrive\\belgeler\\github_projeler\\kaggle_competition\\.venv\\lib\\site-packages (from dython) (1.6.1)\n",
      "Requirement already satisfied: psutil>=5.9.1 in c:\\users\\muham\\onedrive\\belgeler\\github_projeler\\kaggle_competition\\.venv\\lib\\site-packages (from dython) (7.0.0)\n",
      "Collecting setuptools (from dython)\n",
      "  Using cached setuptools-80.9.0-py3-none-any.whl.metadata (6.6 kB)\n",
      "Requirement already satisfied: contourpy>=1.0.1 in c:\\users\\muham\\onedrive\\belgeler\\github_projeler\\kaggle_competition\\.venv\\lib\\site-packages (from matplotlib>=3.6.0->dython) (1.3.2)\n",
      "Requirement already satisfied: cycler>=0.10 in c:\\users\\muham\\onedrive\\belgeler\\github_projeler\\kaggle_competition\\.venv\\lib\\site-packages (from matplotlib>=3.6.0->dython) (0.12.1)\n",
      "Requirement already satisfied: fonttools>=4.22.0 in c:\\users\\muham\\onedrive\\belgeler\\github_projeler\\kaggle_competition\\.venv\\lib\\site-packages (from matplotlib>=3.6.0->dython) (4.58.0)\n",
      "Requirement already satisfied: kiwisolver>=1.3.1 in c:\\users\\muham\\onedrive\\belgeler\\github_projeler\\kaggle_competition\\.venv\\lib\\site-packages (from matplotlib>=3.6.0->dython) (1.4.8)\n",
      "Requirement already satisfied: packaging>=20.0 in c:\\users\\muham\\onedrive\\belgeler\\github_projeler\\kaggle_competition\\.venv\\lib\\site-packages (from matplotlib>=3.6.0->dython) (25.0)\n",
      "Requirement already satisfied: pillow>=8 in c:\\users\\muham\\onedrive\\belgeler\\github_projeler\\kaggle_competition\\.venv\\lib\\site-packages (from matplotlib>=3.6.0->dython) (11.2.1)\n",
      "Requirement already satisfied: pyparsing>=2.3.1 in c:\\users\\muham\\onedrive\\belgeler\\github_projeler\\kaggle_competition\\.venv\\lib\\site-packages (from matplotlib>=3.6.0->dython) (3.2.3)\n",
      "Requirement already satisfied: python-dateutil>=2.7 in c:\\users\\muham\\onedrive\\belgeler\\github_projeler\\kaggle_competition\\.venv\\lib\\site-packages (from matplotlib>=3.6.0->dython) (2.9.0.post0)\n",
      "Requirement already satisfied: pytz>=2020.1 in c:\\users\\muham\\onedrive\\belgeler\\github_projeler\\kaggle_competition\\.venv\\lib\\site-packages (from pandas>=1.4.2->dython) (2025.2)\n",
      "Requirement already satisfied: tzdata>=2022.7 in c:\\users\\muham\\onedrive\\belgeler\\github_projeler\\kaggle_competition\\.venv\\lib\\site-packages (from pandas>=1.4.2->dython) (2025.2)\n",
      "Requirement already satisfied: six>=1.5 in c:\\users\\muham\\onedrive\\belgeler\\github_projeler\\kaggle_competition\\.venv\\lib\\site-packages (from python-dateutil>=2.7->matplotlib>=3.6.0->dython) (1.17.0)\n",
      "Requirement already satisfied: joblib>=1.2.0 in c:\\users\\muham\\onedrive\\belgeler\\github_projeler\\kaggle_competition\\.venv\\lib\\site-packages (from scikit-learn>=0.24.2->dython) (1.5.0)\n",
      "Requirement already satisfied: threadpoolctl>=3.1.0 in c:\\users\\muham\\onedrive\\belgeler\\github_projeler\\kaggle_competition\\.venv\\lib\\site-packages (from scikit-learn>=0.24.2->dython) (3.6.0)\n",
      "Downloading dython-0.7.9-py3-none-any.whl (26 kB)\n",
      "Using cached setuptools-80.9.0-py3-none-any.whl (1.2 MB)\n",
      "Installing collected packages: setuptools, dython\n",
      "\n",
      "   ---------------------------------------- 0/2 [setuptools]\n",
      "   ---------------------------------------- 0/2 [setuptools]\n",
      "   ---------------------------------------- 0/2 [setuptools]\n",
      "   ---------------------------------------- 0/2 [setuptools]\n",
      "   ---------------------------------------- 0/2 [setuptools]\n",
      "   ---------------------------------------- 0/2 [setuptools]\n",
      "   -------------------- ------------------- 1/2 [dython]\n",
      "   ---------------------------------------- 2/2 [dython]\n",
      "\n",
      "Successfully installed dython-0.7.9 setuptools-80.9.0\n"
     ]
    }
   ],
   "source": [
    "!pip install dython"
   ]
  },
  {
   "cell_type": "code",
   "execution_count": 34,
   "metadata": {},
   "outputs": [],
   "source": [
    "from sklearn.model_selection import train_test_split\n",
    "from sklearn.preprocessing import LabelEncoder,OrdinalEncoder\n",
    "import category_encoders as ce\n",
    "\n",
    "missing_threshold = 0.95\n",
    "\n",
    "high_missing_columns = df_train.columns[df_train.isnull().mean() > missing_threshold]\n",
    "\n",
    "df_train = df_train.drop(columns=high_missing_columns)\n",
    "df_test = df_test.drop(columns=high_missing_columns)\n",
    "target = 'class'\n",
    "\n",
    "for column in df_train.columns:\n",
    "    if df_train[column].isnull().any():      \n",
    "        if df_train[column].dtype == 'object':\n",
    "            mode_value = df_train[column].mode()[0]\n",
    "            df_train[column].fillna(mode_value, inplace=True)\n",
    "            df_test[column].fillna(mode_value, inplace=True)     \n",
    "        else:\n",
    "            median_value = df_train[column].median()\n",
    "            df_train[column].fillna(median_value, inplace=True)\n",
    "            df_test[column].fillna(median_value, inplace=True)"
   ]
  }
 ],
 "metadata": {
  "kernelspec": {
   "display_name": ".venv",
   "language": "python",
   "name": "python3"
  },
  "language_info": {
   "codemirror_mode": {
    "name": "ipython",
    "version": 3
   },
   "file_extension": ".py",
   "mimetype": "text/x-python",
   "name": "python",
   "nbconvert_exporter": "python",
   "pygments_lexer": "ipython3",
   "version": "3.13.5"
  }
 },
 "nbformat": 4,
 "nbformat_minor": 2
}
