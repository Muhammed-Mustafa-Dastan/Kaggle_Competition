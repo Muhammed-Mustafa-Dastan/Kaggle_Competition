{
 "cells": [
  {
   "cell_type": "markdown",
   "id": "700c0819",
   "metadata": {},
   "source": [
    "# Calorie Estimation: Data Analysis and Modeling\n",
    "This notebook covers the steps of data analysis, feature engineering, and machine learning modeling for the calorie estimation competition."
   ]
  },
  {
   "cell_type": "code",
   "execution_count": 2,
   "id": "7b14ef7e",
   "metadata": {},
   "outputs": [
    {
     "ename": "ModuleNotFoundError",
     "evalue": "No module named 'pandas'",
     "output_type": "error",
     "traceback": [
      "\u001b[1;31m---------------------------------------------------------------------------\u001b[0m",
      "\u001b[1;31mModuleNotFoundError\u001b[0m                       Traceback (most recent call last)",
      "Cell \u001b[1;32mIn[2], line 2\u001b[0m\n\u001b[0;32m      1\u001b[0m \u001b[38;5;66;03m# Gerekli kütüphaneleri yükle\u001b[39;00m\n\u001b[1;32m----> 2\u001b[0m \u001b[38;5;28;01mimport\u001b[39;00m\u001b[38;5;250m \u001b[39m\u001b[38;5;21;01mpandas\u001b[39;00m\u001b[38;5;250m \u001b[39m\u001b[38;5;28;01mas\u001b[39;00m\u001b[38;5;250m \u001b[39m\u001b[38;5;21;01mpd\u001b[39;00m\n\u001b[0;32m      3\u001b[0m \u001b[38;5;28;01mimport\u001b[39;00m\u001b[38;5;250m \u001b[39m\u001b[38;5;21;01mnumpy\u001b[39;00m\u001b[38;5;250m \u001b[39m\u001b[38;5;28;01mas\u001b[39;00m\u001b[38;5;250m \u001b[39m\u001b[38;5;21;01mnp\u001b[39;00m\n\u001b[0;32m      4\u001b[0m \u001b[38;5;28;01mimport\u001b[39;00m\u001b[38;5;250m \u001b[39m\u001b[38;5;21;01mmatplotlib\u001b[39;00m\u001b[38;5;21;01m.\u001b[39;00m\u001b[38;5;21;01mpyplot\u001b[39;00m\u001b[38;5;250m \u001b[39m\u001b[38;5;28;01mas\u001b[39;00m\u001b[38;5;250m \u001b[39m\u001b[38;5;21;01mplt\u001b[39;00m\n",
      "\u001b[1;31mModuleNotFoundError\u001b[0m: No module named 'pandas'"
     ]
    }
   ],
   "source": [
    "# Gerekli kütüphaneleri yükle\n",
    "import pandas as pd\n",
    "import numpy as np\n",
    "import matplotlib.pyplot as plt\n",
    "import seaborn as sns"
   ]
  },
  {
   "cell_type": "markdown",
   "id": "5dd4cad1",
   "metadata": {},
   "source": [
    "## 1. Veriyi Yükleme ve İlk İnceleme"
   ]
  },
  {
   "cell_type": "code",
   "execution_count": null,
   "id": "97326737",
   "metadata": {},
   "outputs": [],
   "source": [
    "# Verileri oku\n",
    "train = pd.read_csv('train.csv')\n",
    "test = pd.read_csv('test.csv')\n",
    "\n",
    "# İlk 5 satırı göster\n",
    "train.head()"
   ]
  },
  {
   "cell_type": "code",
   "execution_count": null,
   "id": "69449af8",
   "metadata": {},
   "outputs": [],
   "source": [
    "# Test setinin ilk 5 satırı\n",
    "test.head()"
   ]
  },
  {
   "cell_type": "code",
   "execution_count": null,
   "id": "9c766a5e",
   "metadata": {},
   "outputs": [],
   "source": [
    "# Sütun isimleri ve veri tipleri\n",
    "print('Train sütunları:', train.columns.tolist())\n",
    "print('Test sütunları:', test.columns.tolist())\n",
    "train.info()"
   ]
  },
  {
   "cell_type": "code",
   "execution_count": null,
   "id": "b8f2cc71",
   "metadata": {},
   "outputs": [],
   "source": [
    "# Eksik değer kontrolü\n",
    "print('Eksik değerler (train):')\n",
    "print(train.isnull().sum())\n",
    "print('Eksik değerler (test):')\n",
    "print(test.isnull().sum())"
   ]
  },
  {
   "cell_type": "code",
   "execution_count": null,
   "id": "8ae62c01",
   "metadata": {},
   "outputs": [],
   "source": [
    "# Temel istatistikler\n",
    "train.describe()"
   ]
  },
  {
   "cell_type": "markdown",
   "id": "09b9e323",
   "metadata": {},
   "source": [
    "## 2. Hedef Değişkeni Analizi"
   ]
  },
  {
   "cell_type": "code",
   "execution_count": null,
   "id": "27759b38",
   "metadata": {},
   "outputs": [],
   "source": [
    "# Hedef değişkenin dağılımı\n",
    "plt.figure(figsize=(8,4))\n",
    "sns.histplot(train['Calories'], bins=50, kde=True)\n",
    "plt.title('Calories Dağılımı')\n",
    "plt.xlabel('Calories')\n",
    "plt.show()"
   ]
  },
  {
   "cell_type": "markdown",
   "id": "fb76beff",
   "metadata": {},
   "source": [
    "## 3. Özellik Analizi ve Korelasyon"
   ]
  },
  {
   "cell_type": "code",
   "execution_count": null,
   "id": "3f846f67",
   "metadata": {},
   "outputs": [],
   "source": [
    "# Korelasyon matrisi\n",
    "plt.figure(figsize=(10,8))\n",
    "sns.heatmap(train.corr(), annot=True, fmt='.2f', cmap='coolwarm')\n",
    "plt.title('Korelasyon Matrisi')\n",
    "plt.show()"
   ]
  },
  {
   "cell_type": "markdown",
   "id": "834e4d86",
   "metadata": {},
   "source": [
    "## 4. Basit Modelleme (LightGBM ile)"
   ]
  },
  {
   "cell_type": "code",
   "execution_count": null,
   "id": "19041a00",
   "metadata": {},
   "outputs": [],
   "source": [
    "from sklearn.model_selection import train_test_split\n",
    "from sklearn.metrics import mean_squared_log_error\n",
    "import lightgbm as lgb\n",
    "\n",
    "# Özellik ve hedef değişkenleri ayır\n",
    "X = train.drop(['Calories', 'id'], axis=1)\n",
    "y = train['Calories']\n",
    "\n",
    "# Eğitim ve doğrulama seti\n",
    "X_train, X_val, y_train, y_val = train_test_split(X, y, test_size=0.2, random_state=42)\n",
    "\n",
    "# Modeli eğit\n",
    "model = lgb.LGBMRegressor(random_state=42)\n",
    "model.fit(X_train, y_train)\n",
    "\n",
    "# Doğrulama tahmini\n",
    "val_pred = model.predict(X_val)\n",
    "\n",
    "# RMSLE hesapla\n",
    "rmsle = np.sqrt(mean_squared_log_error(y_val, val_pred))\n",
    "print(f'Validation RMSLE: {rmsle:.5f}')"
   ]
  },
  {
   "cell_type": "markdown",
   "id": "39a9a1a3",
   "metadata": {},
   "source": [
    "## 5. Test Seti için Tahmin ve Submission Dosyası Oluşturma"
   ]
  },
  {
   "cell_type": "code",
   "execution_count": null,
   "id": "8a55872a",
   "metadata": {},
   "outputs": [],
   "source": [
    "# Test seti için tahmin\n",
    "X_test = test.drop(['id'], axis=1)\n",
    "test_pred = model.predict(X_test)\n",
    "\n",
    "# Submission dosyası\n",
    "submission = pd.DataFrame({'id': test['id'], 'Calories': test_pred})\n",
    "submission.to_csv('submission.csv', index=False)\n",
    "submission.head()"
   ]
  },
  {
   "cell_type": "markdown",
   "id": "3ab42f42",
   "metadata": {},
   "source": [
    "Yarışma için submission.csv dosyası oluşturulmuştur. Modeli geliştirmek için özellik mühendisliği, hiperparametre optimizasyonu ve ensemble yöntemleri ekleyebilirsin."
   ]
  }
 ],
 "metadata": {
  "kernelspec": {
   "display_name": "Python 3",
   "language": "python",
   "name": "python3"
  },
  "language_info": {
   "codemirror_mode": {
    "name": "ipython",
    "version": 3
   },
   "file_extension": ".py",
   "mimetype": "text/x-python",
   "name": "python",
   "nbconvert_exporter": "python",
   "pygments_lexer": "ipython3",
   "version": "3.10.11"
  }
 },
 "nbformat": 4,
 "nbformat_minor": 5
}
